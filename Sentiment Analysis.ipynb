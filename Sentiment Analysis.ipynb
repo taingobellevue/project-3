{
 "cells": [
  {
   "cell_type": "markdown",
   "metadata": {},
   "source": [
    "### Name: Tai Ngo\n",
    "### DSC-680: Data Science Application\n",
    "\n",
    "### Using Sentiment Analysis on Finviz Articles about Stocks"
   ]
  },
  {
   "cell_type": "markdown",
   "metadata": {},
   "source": [
    "#### Skills: Web Scraping, Data Analysis, Data Visualization"
   ]
  },
  {
   "cell_type": "code",
   "execution_count": 1,
   "metadata": {},
   "outputs": [],
   "source": [
    "from urllib.request import urlopen, Request\n",
    "from bs4 import BeautifulSoup"
   ]
  },
  {
   "cell_type": "markdown",
   "metadata": {},
   "source": [
    "#### Stocks: S&P 500 ETF (SPY), Techology ETF (TQQQ), Gold Index (GOLD)"
   ]
  },
  {
   "cell_type": "code",
   "execution_count": 2,
   "metadata": {},
   "outputs": [],
   "source": [
    "# get the data from finviz for three tickers: SPY, TQQQ and VIXY\n",
    "\n",
    "fv_url = 'https://finviz.com/quote.ashx?t='\n",
    "tickers = ['QQQ', 'GOLD', 'SPY']\n",
    "\n",
    "table_news = {}\n",
    "\n",
    "for symbol in tickers:\n",
    "    url = fv_url + symbol\n",
    "    \n",
    "    req = Request(url=url, headers={'user-agent': 'my-app'})\n",
    "    response = urlopen(req)\n",
    "    \n",
    "    html = BeautifulSoup(response, 'html')\n",
    "    news_table = html.find(id='news-table')\n",
    "    table_news[symbol] = news_table"
   ]
  },
  {
   "cell_type": "markdown",
   "metadata": {},
   "source": [
    "#### Parse and Manipulate the Data"
   ]
  },
  {
   "cell_type": "code",
   "execution_count": 3,
   "metadata": {},
   "outputs": [
    {
     "name": "stdout",
     "output_type": "stream",
     "text": [
      "['QQQ', 'Nov-06-20', '12:20PM\\xa0\\xa0', 'Economists all sound the same alarm after the better-than-expected jobs report']\n"
     ]
    }
   ],
   "source": [
    "# append values into parsed_\n",
    "parsed_ = []\n",
    "\n",
    "for symbol, news_table in table_news.items():\n",
    "    for r in news_table.findAll('tr'):\n",
    "        contents = r.a.get_text()\n",
    "        date_ = r.td.text.split(' ')\n",
    "        \n",
    "        if len(date_) == 1:\n",
    "            time = date_[0]\n",
    "        else:\n",
    "            date = date_[0]\n",
    "            time = date_[1]\n",
    "            \n",
    "        parsed_.append([symbol, date, time, contents])\n",
    "        \n",
    "print(parsed_[10])"
   ]
  },
  {
   "cell_type": "markdown",
   "metadata": {},
   "source": [
    "#### Sentiment Analysis"
   ]
  },
  {
   "cell_type": "code",
   "execution_count": 4,
   "metadata": {},
   "outputs": [],
   "source": [
    "# load required libraries\n",
    "import pandas as pd\n",
    "import nltk\n",
    "\n",
    "# vader is a powerful sentiment analysis tool, which can accurately classify positive/negative comments\n",
    "from nltk.sentiment.vader import SentimentIntensityAnalyzer"
   ]
  },
  {
   "cell_type": "code",
   "execution_count": 5,
   "metadata": {},
   "outputs": [
    {
     "data": {
      "text/html": [
       "<div>\n",
       "<style scoped>\n",
       "    .dataframe tbody tr th:only-of-type {\n",
       "        vertical-align: middle;\n",
       "    }\n",
       "\n",
       "    .dataframe tbody tr th {\n",
       "        vertical-align: top;\n",
       "    }\n",
       "\n",
       "    .dataframe thead th {\n",
       "        text-align: right;\n",
       "    }\n",
       "</style>\n",
       "<table border=\"1\" class=\"dataframe\">\n",
       "  <thead>\n",
       "    <tr style=\"text-align: right;\">\n",
       "      <th></th>\n",
       "      <th>Symbol</th>\n",
       "      <th>Date</th>\n",
       "      <th>Time</th>\n",
       "      <th>Contents</th>\n",
       "    </tr>\n",
       "  </thead>\n",
       "  <tbody>\n",
       "    <tr>\n",
       "      <th>0</th>\n",
       "      <td>QQQ</td>\n",
       "      <td>Nov-13-20</td>\n",
       "      <td>06:01AM</td>\n",
       "      <td>5 years of market action in one year: Morning ...</td>\n",
       "    </tr>\n",
       "    <tr>\n",
       "      <th>1</th>\n",
       "      <td>QQQ</td>\n",
       "      <td>Nov-12-20</td>\n",
       "      <td>01:02PM</td>\n",
       "      <td>'We are going to get a global economic recover...</td>\n",
       "    </tr>\n",
       "    <tr>\n",
       "      <th>2</th>\n",
       "      <td>QQQ</td>\n",
       "      <td>Nov-11-20</td>\n",
       "      <td>04:05PM</td>\n",
       "      <td>Stock market news live updates: Stocks rise as...</td>\n",
       "    </tr>\n",
       "    <tr>\n",
       "      <th>3</th>\n",
       "      <td>QQQ</td>\n",
       "      <td>Nov-11-20</td>\n",
       "      <td>11:07AM</td>\n",
       "      <td>Best (and Only) Nasdaq ETF for Q1 2021</td>\n",
       "    </tr>\n",
       "    <tr>\n",
       "      <th>4</th>\n",
       "      <td>QQQ</td>\n",
       "      <td>Nov-10-20</td>\n",
       "      <td>05:31PM</td>\n",
       "      <td>U.S. Markets Split as Dow Heads Higher, Nasdaq...</td>\n",
       "    </tr>\n",
       "    <tr>\n",
       "      <th>5</th>\n",
       "      <td>QQQ</td>\n",
       "      <td>Nov-10-20</td>\n",
       "      <td>04:05PM</td>\n",
       "      <td>Stock market news live updates: Stocks mixed a...</td>\n",
       "    </tr>\n",
       "    <tr>\n",
       "      <th>6</th>\n",
       "      <td>QQQ</td>\n",
       "      <td>Nov-10-20</td>\n",
       "      <td>05:55AM</td>\n",
       "      <td>The positive impacts of a COVID-19 vaccine wil...</td>\n",
       "    </tr>\n",
       "  </tbody>\n",
       "</table>\n",
       "</div>"
      ],
      "text/plain": [
       "  Symbol       Date       Time  \\\n",
       "0    QQQ  Nov-13-20  06:01AM     \n",
       "1    QQQ  Nov-12-20  01:02PM     \n",
       "2    QQQ  Nov-11-20  04:05PM     \n",
       "3    QQQ  Nov-11-20  11:07AM     \n",
       "4    QQQ  Nov-10-20  05:31PM     \n",
       "5    QQQ  Nov-10-20  04:05PM     \n",
       "6    QQQ  Nov-10-20  05:55AM     \n",
       "\n",
       "                                            Contents  \n",
       "0  5 years of market action in one year: Morning ...  \n",
       "1  'We are going to get a global economic recover...  \n",
       "2  Stock market news live updates: Stocks rise as...  \n",
       "3             Best (and Only) Nasdaq ETF for Q1 2021  \n",
       "4  U.S. Markets Split as Dow Heads Higher, Nasdaq...  \n",
       "5  Stock market news live updates: Stocks mixed a...  \n",
       "6  The positive impacts of a COVID-19 vaccine wil...  "
      ]
     },
     "execution_count": 5,
     "metadata": {},
     "output_type": "execute_result"
    }
   ],
   "source": [
    "# create a dataframe from the parsed data\n",
    "df = pd.DataFrame(parsed_, columns=['Symbol', 'Date', 'Time', 'Contents'])\n",
    "df.head(7)"
   ]
  },
  {
   "cell_type": "code",
   "execution_count": 6,
   "metadata": {},
   "outputs": [],
   "source": [
    "# install vader_lexicon\n",
    "#nltk.download('vader_lexicon')"
   ]
  },
  {
   "cell_type": "code",
   "execution_count": 7,
   "metadata": {},
   "outputs": [],
   "source": [
    "# vader to analyzer the text contents\n",
    "vader = SentimentIntensityAnalyzer()"
   ]
  },
  {
   "cell_type": "code",
   "execution_count": 8,
   "metadata": {},
   "outputs": [
    {
     "name": "stdout",
     "output_type": "stream",
     "text": [
      "{'neg': 0.252, 'neu': 0.748, 'pos': 0.0, 'compound': -0.4019}\n"
     ]
    }
   ],
   "source": [
    "# perform a negative test by using vader\n",
    "print(vader.polarity_scores(\"The infection rate is increasing. The economy will crash\"))"
   ]
  },
  {
   "cell_type": "code",
   "execution_count": 9,
   "metadata": {},
   "outputs": [
    {
     "name": "stdout",
     "output_type": "stream",
     "text": [
      "{'neg': 0.0, 'neu': 0.661, 'pos': 0.339, 'compound': 0.6249}\n"
     ]
    }
   ],
   "source": [
    "# perform a positive test by using vader\n",
    "print(vader.polarity_scores(\"The earning reports are great. The stocks will rise\"))"
   ]
  },
  {
   "cell_type": "code",
   "execution_count": 10,
   "metadata": {},
   "outputs": [],
   "source": [
    "# create a new column with the Score from vader\n",
    "df['Score'] = df['Contents'].apply(lambda contents: vader.polarity_scores(contents)['compound'])"
   ]
  },
  {
   "cell_type": "code",
   "execution_count": 11,
   "metadata": {},
   "outputs": [
    {
     "data": {
      "text/html": [
       "<div>\n",
       "<style scoped>\n",
       "    .dataframe tbody tr th:only-of-type {\n",
       "        vertical-align: middle;\n",
       "    }\n",
       "\n",
       "    .dataframe tbody tr th {\n",
       "        vertical-align: top;\n",
       "    }\n",
       "\n",
       "    .dataframe thead th {\n",
       "        text-align: right;\n",
       "    }\n",
       "</style>\n",
       "<table border=\"1\" class=\"dataframe\">\n",
       "  <thead>\n",
       "    <tr style=\"text-align: right;\">\n",
       "      <th></th>\n",
       "      <th>Symbol</th>\n",
       "      <th>Date</th>\n",
       "      <th>Time</th>\n",
       "      <th>Contents</th>\n",
       "      <th>Score</th>\n",
       "    </tr>\n",
       "  </thead>\n",
       "  <tbody>\n",
       "    <tr>\n",
       "      <th>10</th>\n",
       "      <td>QQQ</td>\n",
       "      <td>Nov-06-20</td>\n",
       "      <td>12:20PM</td>\n",
       "      <td>Economists all sound the same alarm after the ...</td>\n",
       "      <td>-0.3400</td>\n",
       "    </tr>\n",
       "    <tr>\n",
       "      <th>11</th>\n",
       "      <td>QQQ</td>\n",
       "      <td>Nov-06-20</td>\n",
       "      <td>09:00AM</td>\n",
       "      <td>Amazon a friend to department store giant Kohl...</td>\n",
       "      <td>0.5994</td>\n",
       "    </tr>\n",
       "    <tr>\n",
       "      <th>12</th>\n",
       "      <td>QQQ</td>\n",
       "      <td>Nov-06-20</td>\n",
       "      <td>06:15AM</td>\n",
       "      <td>Wall Street strategists are already telling cl...</td>\n",
       "      <td>0.0000</td>\n",
       "    </tr>\n",
       "    <tr>\n",
       "      <th>13</th>\n",
       "      <td>QQQ</td>\n",
       "      <td>Nov-05-20</td>\n",
       "      <td>12:45PM</td>\n",
       "      <td>PREMIUM: Trading Post-Election Scenarios for S...</td>\n",
       "      <td>0.0000</td>\n",
       "    </tr>\n",
       "    <tr>\n",
       "      <th>14</th>\n",
       "      <td>QQQ</td>\n",
       "      <td>Nov-05-20</td>\n",
       "      <td>09:00AM</td>\n",
       "      <td>Influencers with Andy Serwer: Michelle Gass</td>\n",
       "      <td>0.0000</td>\n",
       "    </tr>\n",
       "  </tbody>\n",
       "</table>\n",
       "</div>"
      ],
      "text/plain": [
       "   Symbol       Date       Time  \\\n",
       "10    QQQ  Nov-06-20  12:20PM     \n",
       "11    QQQ  Nov-06-20  09:00AM     \n",
       "12    QQQ  Nov-06-20  06:15AM     \n",
       "13    QQQ  Nov-05-20  12:45PM     \n",
       "14    QQQ  Nov-05-20  09:00AM     \n",
       "\n",
       "                                             Contents   Score  \n",
       "10  Economists all sound the same alarm after the ... -0.3400  \n",
       "11  Amazon a friend to department store giant Kohl...  0.5994  \n",
       "12  Wall Street strategists are already telling cl...  0.0000  \n",
       "13  PREMIUM: Trading Post-Election Scenarios for S...  0.0000  \n",
       "14        Influencers with Andy Serwer: Michelle Gass  0.0000  "
      ]
     },
     "execution_count": 11,
     "metadata": {},
     "output_type": "execute_result"
    }
   ],
   "source": [
    "# examine new columns\n",
    "df[10:20].head()"
   ]
  },
  {
   "cell_type": "markdown",
   "metadata": {},
   "source": [
    "#### Data Visualization"
   ]
  },
  {
   "cell_type": "code",
   "execution_count": 12,
   "metadata": {},
   "outputs": [],
   "source": [
    "import matplotlib.pyplot as plt"
   ]
  },
  {
   "cell_type": "code",
   "execution_count": 13,
   "metadata": {},
   "outputs": [],
   "source": [
    "# convert the Date column from str to date-time format\n",
    "df['Date'] = pd.to_datetime(df.Date).dt.date"
   ]
  },
  {
   "cell_type": "code",
   "execution_count": 14,
   "metadata": {},
   "outputs": [
    {
     "data": {
      "image/png": "[encoded data removed]",
      "text/plain": [
       "<Figure size 1080x720 with 1 Axes>"
      ]
     },
     "metadata": {
      "needs_background": "light"
     },
     "output_type": "display_data"
    }
   ],
   "source": [
    "# plot the bar chart\n",
    "mean_ = df.groupby(['Symbol', 'Date']).mean()\n",
    "mean_ = mean_.unstack()\n",
    "mean_ = mean_.xs('Score', axis='columns').transpose()\n",
    "mean_.plot(kind='bar', figsize=(15,10))\n",
    "plt.show()"
   ]
  },
  {
   "cell_type": "markdown",
   "metadata": {},
   "source": [
    "#### Interesting Find: Stocks tend to dip before every election, this chart shows that there were good news before election. \n",
    "#### As a result, the S&P 500 Index (SPY) jumped a whoppy 11% before and during the election week."
   ]
  },
  {
   "cell_type": "markdown",
   "metadata": {},
   "source": [
    "#### For one stock"
   ]
  },
  {
   "cell_type": "code",
   "execution_count": 15,
   "metadata": {},
   "outputs": [
    {
     "data": {
      "image/png": "[encoded data removed]",
      "text/plain": [
       "<Figure size 1080x720 with 1 Axes>"
      ]
     },
     "metadata": {
      "needs_background": "light"
     },
     "output_type": "display_data"
    }
   ],
   "source": [
    "#### Insert any stock ticker to get its sentiment analysis\n",
    "\n",
    "# insert stock ticker here\n",
    "tickers = ['SPY']\n",
    "\n",
    "table_news = {}\n",
    "\n",
    "for symbol in tickers:\n",
    "    url = fv_url + symbol\n",
    "    \n",
    "    req = Request(url=url, headers={'user-agent': 'my-app'})\n",
    "    response = urlopen(req)\n",
    "    \n",
    "    html = BeautifulSoup(response, 'html')\n",
    "    news_table = html.find(id='news-table')\n",
    "    table_news[symbol] = news_table\n",
    "\n",
    "parsed_ = []\n",
    "\n",
    "for symbol, news_table in table_news.items():\n",
    "    for r in news_table.findAll('tr'):\n",
    "        contents = r.a.get_text()\n",
    "        date_ = r.td.text.split(' ')\n",
    "        \n",
    "        if len(date_) == 1:\n",
    "            time = date_[0]\n",
    "        else:\n",
    "            date = date_[0]\n",
    "            time = date_[1]\n",
    "            \n",
    "        parsed_.append([symbol, date, time, contents])\n",
    "        \n",
    "df = pd.DataFrame(parsed_, columns=['Symbol', 'Date', 'Time', 'Contents'])\n",
    "df['Score'] = df['Contents'].apply(lambda contents: vader.polarity_scores(contents)['compound'])\n",
    "df['Date'] = pd.to_datetime(df.Date).dt.date\n",
    "mean_ = df.groupby(['Symbol', 'Date']).mean()\n",
    "mean_ = mean_.unstack()\n",
    "mean_ = mean_.xs('Score', axis='columns').transpose()\n",
    "mean_.plot(kind='bar', figsize=(15,10))\n",
    "plt.show()"
   ]
  },
  {
   "cell_type": "code",
   "execution_count": null,
   "metadata": {},
   "outputs": [],
   "source": []
  }
 ],
 "metadata": {
  "kernelspec": {
   "display_name": "Python 3",
   "language": "python",
   "name": "python3"
  },
  "language_info": {
   "codemirror_mode": {
    "name": "ipython",
    "version": 3
   },
   "file_extension": ".py",
   "mimetype": "text/x-python",
   "name": "python",
   "nbconvert_exporter": "python",
   "pygments_lexer": "ipython3",
   "version": "3.7.3"
  }
 },
 "nbformat": 4,
 "nbformat_minor": 2
}
